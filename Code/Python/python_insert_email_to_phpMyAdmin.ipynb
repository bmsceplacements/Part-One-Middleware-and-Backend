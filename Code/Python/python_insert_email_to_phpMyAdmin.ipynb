{
 "cells": [
  {
   "cell_type": "code",
   "execution_count": 1,
   "metadata": {},
   "outputs": [],
   "source": [
    "# Import all the necessary modules\n",
    "import csv\n",
    "import pandas as pd\n",
    "import numpy as np"
   ]
  },
  {
   "cell_type": "code",
   "execution_count": 2,
   "metadata": {},
   "outputs": [],
   "source": [
    "# pymysql is the middleware to connect a database with python programming\n",
    "import pymysql"
   ]
  },
  {
   "cell_type": "code",
   "execution_count": 3,
   "metadata": {},
   "outputs": [],
   "source": [
    "#NOTE: If importing a module gives an error message like this: No module named 'pymysql' \n",
    "#then use this snippet in your jupyter notebook\n",
    "#import sys\n",
    "#!{sys.executable} -m pip install pymysql"
   ]
  },
  {
   "cell_type": "code",
   "execution_count": 4,
   "metadata": {},
   "outputs": [
    {
     "name": "stdout",
     "output_type": "stream",
     "text": [
      "D:\\STUDY MATERIALS\\Which projects get you placed\\code\n"
     ]
    }
   ],
   "source": [
    "#Get the working directory for your code if necessary\n",
    "import os\n",
    "print(os.getcwd())"
   ]
  },
  {
   "cell_type": "code",
   "execution_count": 5,
   "metadata": {},
   "outputs": [],
   "source": [
    "#ress.csv is the name of the stylesheet\n",
    "file1=pd.read_csv(\"ress.csv\")"
   ]
  },
  {
   "cell_type": "code",
   "execution_count": 6,
   "metadata": {},
   "outputs": [
    {
     "data": {
      "text/html": [
       "<div>\n",
       "<style scoped>\n",
       "    .dataframe tbody tr th:only-of-type {\n",
       "        vertical-align: middle;\n",
       "    }\n",
       "\n",
       "    .dataframe tbody tr th {\n",
       "        vertical-align: top;\n",
       "    }\n",
       "\n",
       "    .dataframe thead th {\n",
       "        text-align: right;\n",
       "    }\n",
       "</style>\n",
       "<table border=\"1\" class=\"dataframe\">\n",
       "  <thead>\n",
       "    <tr style=\"text-align: right;\">\n",
       "      <th></th>\n",
       "      <th>Timestamp</th>\n",
       "      <th>Email Address</th>\n",
       "      <th>Full Name</th>\n",
       "      <th>USN</th>\n",
       "      <th>Preferred Language to Code:</th>\n",
       "    </tr>\n",
       "  </thead>\n",
       "  <tbody>\n",
       "    <tr>\n",
       "      <th>0</th>\n",
       "      <td>9/1/2020 17:36:02</td>\n",
       "      <td>shubhang.is18@bmsce.ac.in</td>\n",
       "      <td>Shubhang C S</td>\n",
       "      <td>1BM18IS104</td>\n",
       "      <td>Python</td>\n",
       "    </tr>\n",
       "    <tr>\n",
       "      <th>1</th>\n",
       "      <td>9/1/2020 17:40:43</td>\n",
       "      <td>shubham.is18@bmsce.ac.in</td>\n",
       "      <td>Shubham Raj</td>\n",
       "      <td>1BM18IS103</td>\n",
       "      <td>Java, Python</td>\n",
       "    </tr>\n",
       "    <tr>\n",
       "      <th>2</th>\n",
       "      <td>9/1/2020 17:42:10</td>\n",
       "      <td>khushi.is18@bmsce.ac.in</td>\n",
       "      <td>Khushi Vedagarbham</td>\n",
       "      <td>1BM18IS134</td>\n",
       "      <td>Java, Python</td>\n",
       "    </tr>\n",
       "    <tr>\n",
       "      <th>3</th>\n",
       "      <td>9/1/2020 17:51:48</td>\n",
       "      <td>sundar.is18@bmsce.ac.in</td>\n",
       "      <td>Sundar U M</td>\n",
       "      <td>1BM18IS112</td>\n",
       "      <td>Java</td>\n",
       "    </tr>\n",
       "    <tr>\n",
       "      <th>4</th>\n",
       "      <td>9/1/2020 18:00:44</td>\n",
       "      <td>raghav.is18@bmsce.ac.in</td>\n",
       "      <td>RAGHAV JINDAL</td>\n",
       "      <td>1BM18IS137</td>\n",
       "      <td>Python</td>\n",
       "    </tr>\n",
       "  </tbody>\n",
       "</table>\n",
       "</div>"
      ],
      "text/plain": [
       "           Timestamp              Email Address           Full Name  \\\n",
       "0  9/1/2020 17:36:02  shubhang.is18@bmsce.ac.in        Shubhang C S   \n",
       "1  9/1/2020 17:40:43   shubham.is18@bmsce.ac.in         Shubham Raj   \n",
       "2  9/1/2020 17:42:10    khushi.is18@bmsce.ac.in  Khushi Vedagarbham   \n",
       "3  9/1/2020 17:51:48    sundar.is18@bmsce.ac.in          Sundar U M   \n",
       "4  9/1/2020 18:00:44    raghav.is18@bmsce.ac.in       RAGHAV JINDAL   \n",
       "\n",
       "          USN Preferred Language to Code:  \n",
       "0  1BM18IS104                      Python  \n",
       "1  1BM18IS103                Java, Python  \n",
       "2  1BM18IS134                Java, Python  \n",
       "3  1BM18IS112                        Java  \n",
       "4  1BM18IS137                      Python  "
      ]
     },
     "execution_count": 6,
     "metadata": {},
     "output_type": "execute_result"
    }
   ],
   "source": [
    "file1.head()"
   ]
  },
  {
   "cell_type": "code",
   "execution_count": 7,
   "metadata": {},
   "outputs": [],
   "source": [
    "#Create a dataframe\n",
    "df=pd.DataFrame(file1)"
   ]
  },
  {
   "cell_type": "code",
   "execution_count": 8,
   "metadata": {},
   "outputs": [
    {
     "data": {
      "text/html": [
       "<div>\n",
       "<style scoped>\n",
       "    .dataframe tbody tr th:only-of-type {\n",
       "        vertical-align: middle;\n",
       "    }\n",
       "\n",
       "    .dataframe tbody tr th {\n",
       "        vertical-align: top;\n",
       "    }\n",
       "\n",
       "    .dataframe thead th {\n",
       "        text-align: right;\n",
       "    }\n",
       "</style>\n",
       "<table border=\"1\" class=\"dataframe\">\n",
       "  <thead>\n",
       "    <tr style=\"text-align: right;\">\n",
       "      <th></th>\n",
       "      <th>Email Address</th>\n",
       "      <th>Full Name</th>\n",
       "    </tr>\n",
       "  </thead>\n",
       "  <tbody>\n",
       "    <tr>\n",
       "      <th>0</th>\n",
       "      <td>shubhang.is18@bmsce.ac.in</td>\n",
       "      <td>Shubhang C S</td>\n",
       "    </tr>\n",
       "    <tr>\n",
       "      <th>1</th>\n",
       "      <td>shubham.is18@bmsce.ac.in</td>\n",
       "      <td>Shubham Raj</td>\n",
       "    </tr>\n",
       "    <tr>\n",
       "      <th>2</th>\n",
       "      <td>khushi.is18@bmsce.ac.in</td>\n",
       "      <td>Khushi Vedagarbham</td>\n",
       "    </tr>\n",
       "    <tr>\n",
       "      <th>3</th>\n",
       "      <td>sundar.is18@bmsce.ac.in</td>\n",
       "      <td>Sundar U M</td>\n",
       "    </tr>\n",
       "    <tr>\n",
       "      <th>4</th>\n",
       "      <td>raghav.is18@bmsce.ac.in</td>\n",
       "      <td>RAGHAV JINDAL</td>\n",
       "    </tr>\n",
       "    <tr>\n",
       "      <th>...</th>\n",
       "      <td>...</td>\n",
       "      <td>...</td>\n",
       "    </tr>\n",
       "    <tr>\n",
       "      <th>107</th>\n",
       "      <td>omisha.is18@bmsce.ac.in</td>\n",
       "      <td>Omisha N</td>\n",
       "    </tr>\n",
       "    <tr>\n",
       "      <th>108</th>\n",
       "      <td>palak.is18@bmsce.ac.in</td>\n",
       "      <td>Palak Agarwal</td>\n",
       "    </tr>\n",
       "    <tr>\n",
       "      <th>109</th>\n",
       "      <td>yashasr.is17@bmsce.ac.in</td>\n",
       "      <td>Yashas R</td>\n",
       "    </tr>\n",
       "    <tr>\n",
       "      <th>110</th>\n",
       "      <td>faizan.is18@bmsce.ac.in</td>\n",
       "      <td>Mohammed faizan</td>\n",
       "    </tr>\n",
       "    <tr>\n",
       "      <th>111</th>\n",
       "      <td>raghav.is18@bmsce.ac.in</td>\n",
       "      <td>RAGHAV JINDAL</td>\n",
       "    </tr>\n",
       "  </tbody>\n",
       "</table>\n",
       "<p>112 rows × 2 columns</p>\n",
       "</div>"
      ],
      "text/plain": [
       "                 Email Address           Full Name\n",
       "0    shubhang.is18@bmsce.ac.in        Shubhang C S\n",
       "1     shubham.is18@bmsce.ac.in         Shubham Raj\n",
       "2      khushi.is18@bmsce.ac.in  Khushi Vedagarbham\n",
       "3      sundar.is18@bmsce.ac.in          Sundar U M\n",
       "4      raghav.is18@bmsce.ac.in       RAGHAV JINDAL\n",
       "..                         ...                 ...\n",
       "107    omisha.is18@bmsce.ac.in            Omisha N\n",
       "108     palak.is18@bmsce.ac.in       Palak Agarwal\n",
       "109   yashasr.is17@bmsce.ac.in            Yashas R\n",
       "110    faizan.is18@bmsce.ac.in    Mohammed faizan \n",
       "111    raghav.is18@bmsce.ac.in       RAGHAV JINDAL\n",
       "\n",
       "[112 rows x 2 columns]"
      ]
     },
     "execution_count": 8,
     "metadata": {},
     "output_type": "execute_result"
    }
   ],
   "source": [
    "#Get the name and email of the registered students\n",
    "df[[\"Email Address\",\"Full Name\"]]"
   ]
  },
  {
   "cell_type": "code",
   "execution_count": 9,
   "metadata": {},
   "outputs": [],
   "source": [
    "#Retrieve the email address of all students and append it into a list\n",
    "email=df[\"Email Address\"].values.tolist()"
   ]
  },
  {
   "cell_type": "code",
   "execution_count": 10,
   "metadata": {},
   "outputs": [
    {
     "name": "stdout",
     "output_type": "stream",
     "text": [
      "['shubhang.is18@bmsce.ac.in', 'shubham.is18@bmsce.ac.in', 'khushi.is18@bmsce.ac.in', 'sundar.is18@bmsce.ac.in', 'raghav.is18@bmsce.ac.in', 'anup.is18@bmsce.ac.in', 'chinmay.is18@bmsce.ac.in', 'aviral.te18@bmsce.ac.in', 'adityap.is17@bmsce.ac.in', 'omisha.is18@bmsce.ac.in', 'manaswini.is18@bmsce.ac.in', 'deevithh.is18@bmsce.ac.in', 'bshrikara.is18@bmsce.ac.in', 'anupamkumar.is18@bmsce.ac.in', 'amrutya.is18@bmsce.ac.in', 'ayushi.is18@bmsce.ac.in', 'bhoomikask.is19@bmsce.ac.in', 'akhila.is18@bmsce.ac.in', 'manasi.is18@bmsce.ac.in', 'nikhil.is18@bmsce.ac.in', 'faizan.is18@bmsce.ac.in', 'anurag.is18@bmsce.ac.in', 'govind.is18@bmsce.ac.in', 'adityakumar.is18@bmsce.ac.in', 'prateek.cv18@bmsce.ac.in', 'aashish.is18@bmsce.ac.in', 'anusha.is18@bmsce.ac.in', 'gagandeepm.is18@bmsce.ac.in', 'shreyanshi.is18@bmsce.ac.in', 'rohanjitendra.is18@bmsce.ac.in', 'priyanshi.is18@bmsce.ac.in', 'palak.is18@bmsce.ac.in', 'bharath.is18@bmsce.ac.in', 'aadrika.ei18@bmsce.ac.in', 'akshata.is18@bmsce.ac.in', 'aishwarya.is18@bmsce.ac.in', 'hema.is18@bmsce.ac.in', 'parikshith.is18@bmsce.ac.in', 'saloni.is18@bmsce.ac.in', 'srinivasanshobhika@gmail.com', 'deevithh.is18@bmsce.ac.in', 'ankitag.is18@bmsce.ac.in', 'bhanukumar.is19@bmsce.ac.in', 'amrutya.is18@bmsce.ac.in', 'anupamkumar.is18@bmsce.ac.in', 'bharath.is18@bmsce.ac.in', 'anusha.is18@bmsce.ac.in', 'priyanka.is18@bmsce.ac.in', 'akhila.is18@bmsce.ac.in', 'vineeth.is18@bmsce.ac.in', 'aadrika.ei18@bmsce.ac.in', 'meghanam.is18@bmsce.ac.in', 'sushmithaj.is17@bmsce.ac.in', 'tejas.is17@bmsce.ac.in', 'rakshith.is17@bmsce.ac.in', 'sherylrhea.is17@bmsce.ac.in', 'anushaa.is18@bmsce.ac.in', 'pravishya.is18@bmsce.ac.in', 'pradyumna.is18@bmsce.ac.in', 'anirudhk.is17@bmsce.ac.in', 'raghavendra.is17@bmsce.ac.in', 'sanjana.is17@bmsce.ac.in', 'heenakousar.is17@bmsce.ac.in', 'anupriya.is17@bmsce.ac.in', 'lalasa.is17@bmsce.ac.in', 'meghana.is17@bmsce.ac.in', 'kushagra.is17@bmsce.ac.in', 'naveenkedilaya.is17@bmsce.ac.in', 'saicharan.is17@bmsce.ac.in', 'anannya.is17@bmsce.ac.in', 'abhiram.is17@bmsce.ac.in', 'lalitashree.is17@bmsce.ac.in', 'anarghya.is17@bmsce.ac.in', 'abhisheksheth.is17@bmsce.ac.in', 'priyanka.is18@bmsce.ac.in', 'divyanshsingh.is18@bmsce.ac.in', 'nitinbharadwaj.is17@bmsce.ac.in', 'nitinbharadwaj.is17@bmsce.ac.in', 'aishwaryapatil.is17@bmsce.ac.in', 'ashutosh.is17@bmsce.ac.in', 'sundar.is18@bmsce.ac.in', 'ayushi.is18@bmsce.ac.in', 'bheemappa.is18@bmsce.ac.in', 'apoorvaa.is18@bmsce.ac.in', 'hemanthkumar.is17@bmsce.ac.in', 'hruthwik.is17@bmsce.ac.in', 'vishak.is17@bmsce.ac.in', 'ankithrao.is17@bmsce.ac.in', 'chaithra.is18@bmsce.ac.in', 'kenjpais.is17@bmsce.ac.in', 'ajaysingh.is17@bmsce.ac.in', 'sahils.is18@bmsce.ac.in', 'sharmapannaga.is17@bmsce.ac.in', 'vinay.is18@bmsce.ac.in', 'khushi.is18@bmsce.ac.in', 'harshit.is18@bmsce.ac.in', 'arpithaa.is19@bmsce.ac.in', 'sanjays.is@bmsce.ac.in', 'adityamg.is18@bmsce.ac.in', 'nupurthakur.is18@bmsce.ac.in', 'naveen.is18@bmsce.ac.in', 'nikhil.is18@bmsce.ac.in', 'shubhang.is18@bmsce.ac.in', 'prahlad.is18@bmsce.ac.in', 'prahlad.is18@bmsce.ac.in', 'manjunath.is18@bmsce.ac.in', 'chinmay.is18@bmsce.ac.in', 'omisha.is18@bmsce.ac.in', 'palak.is18@bmsce.ac.in', 'yashasr.is17@bmsce.ac.in', 'faizan.is18@bmsce.ac.in', 'raghav.is18@bmsce.ac.in']\n"
     ]
    }
   ],
   "source": [
    "print(email)"
   ]
  },
  {
   "cell_type": "code",
   "execution_count": 12,
   "metadata": {},
   "outputs": [],
   "source": [
    "#Same for the name\n",
    "names=df[\"Full Name\"].values.tolist()"
   ]
  },
  {
   "cell_type": "code",
   "execution_count": 13,
   "metadata": {},
   "outputs": [
    {
     "name": "stdout",
     "output_type": "stream",
     "text": [
      "['Shubhang C S', 'Shubham Raj', 'Khushi Vedagarbham', 'Sundar U M', 'RAGHAV JINDAL', 'Anup Jain', 'L Chinmay', 'AVIRAL SRIVASTAVA', 'Aditya', 'Omisha N', 'Kunala Sri Manaswini', 'Deevith H T', 'B Shrikara Varna', 'Anupam kumar boruah', 'Amrutya', 'Ayushi Maheshwari', 'Bhoomika s k', 'Akhila Abhijith', 'Manasi M', 'Nikhil Singh', 'MOHAMMED FAIZAN ', 'Anurag Dhasmana', 'Govind Satwani', 'Aditya Kumar', 'Prateek Jain', 'Aashish Chaple ', 'Anusha S', 'Gagandeep M', 'Shreyanshi Srivastava ', 'Rohan Jitendra Dave', 'Priyanshi Saxena', 'Palak Agarwal', 'Bharath M', 'Aadrika A', 'Kesanur Akshata Gurunath', 'Aishwarya R', 'Hema M S', 'K R Parikshith', 'Saloni', 'Shobhika Devi Srinivasan ', 'Deevith H T', 'Ankita G Aswathanarayana', 'Bhanu kumar k', 'Amrutya', 'Anupam boruah', 'Bharath M', 'Anusha S', 'B Priyanka', 'Akhila Abhijith', 'Gandhe Vineeth Kumar', 'Aadrika A', 'Meghana M', 'Sushmitha J', 'Tejas ravi', 'Rakshith Ravindra Chatra ', 'Sheryl Rhea Varughese', 'Anusha A', 'Pravishya N', 'Magic Johnson', 'K. Anirudh Bharadwaj ', 'Raghavendra Raj', 'Sanjana V', 'Heena kousar B M', 'Anupriya Jain', 'P.Lalasa ', 'Meghana Sharath', 'Kushagra Galundia', 'Naveen Kedilaya', 'Sai Charan Reddy', 'Anannya Patra', 'Abhiram P', 'Lalitashree R Hegde', 'H Anarghya', 'Abhishek Sheth', 'B Priyanka', 'Divyansh Singh Rathore ', 'Nitin Bharadwaj N', 'Nitin Bharadwaj N', 'Aishwarya E Patil', 'Ashutosh G Shanbhogue', 'Sundar U M', 'Ayushi Maheshwari', 'Bheemappa', 'Apoorva A Deshpande ', 'Hemanth Kumar R', 'Hruthwik K', 'Vishak L V', 'Ankith B Rao ', 'CHAITHRA B R', 'Ken Pais', 'Ajay Singh', 'Sahil Sadik ', 'Pannaga Sharma M L', 'VinayPandit', 'Khushi Vedagarbham', 'Harshit Chelladurai', 'ARPITHA A DESHPANDE', 'Sanjay S', 'M G Aditya', 'Nupur Thakur ', 'Naveen N', 'Nikhil Singh', 'Shubhang C S', 'Prahlad Nayak', 'Prahlad Nayak', 'Manjunath S', 'L Chinmay', 'Omisha N', 'Palak Agarwal', 'Yashas R', 'Mohammed faizan ', 'RAGHAV JINDAL']\n"
     ]
    }
   ],
   "source": [
    "print(names)"
   ]
  },
  {
   "cell_type": "code",
   "execution_count": 14,
   "metadata": {},
   "outputs": [
    {
     "name": "stdout",
     "output_type": "stream",
     "text": [
      "INSERT INTO student(Name, Email) VALUES('Shubhang C S','shubhang.is18@bmsce.ac.in');\n"
     ]
    }
   ],
   "source": [
    "#Before we connect the database to the phpmyadmin where want to store our database, we need to write the INSERT sql query for\n",
    "# the same\n",
    "print(\"INSERT INTO student(Name, Email) VALUES('\"+names[0]+\"','\"+email[0]+\"');\")"
   ]
  },
  {
   "cell_type": "code",
   "execution_count": 15,
   "metadata": {},
   "outputs": [
    {
     "name": "stdout",
     "output_type": "stream",
     "text": [
      "Email id and names sent to the database successfully\n"
     ]
    }
   ],
   "source": [
    "connection = pymysql.connect(host=\"localhost\", user=\"root\", passwd=\"\", database=\"bmsceplacements\")\n",
    "cursor = connection.cursor()\n",
    "for i in range(len(email)):\n",
    "    insert1 = \"INSERT INTO student(Name, Email) VALUES('\"+names[i]+\"','\"+email[i]+\"');\"\n",
    "    cursor.execute(insert1)\n",
    "connection.commit()\n",
    "connection.close()\n",
    "print(\"Email id and names sent to the database successfully\")"
   ]
  }
 ],
 "metadata": {
  "kernelspec": {
   "display_name": "Python 3",
   "language": "python",
   "name": "python3"
  },
  "language_info": {
   "codemirror_mode": {
    "name": "ipython",
    "version": 3
   },
   "file_extension": ".py",
   "mimetype": "text/x-python",
   "name": "python",
   "nbconvert_exporter": "python",
   "pygments_lexer": "ipython3",
   "version": "3.8.1"
  }
 },
 "nbformat": 4,
 "nbformat_minor": 4
}
